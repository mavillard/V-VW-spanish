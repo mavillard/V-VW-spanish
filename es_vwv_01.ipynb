{
 "cells": [
  {
   "cell_type": "code",
   "execution_count": 1,
   "metadata": {},
   "outputs": [],
   "source": [
    "import os\n",
    "import pickle\n",
    "\n",
    "from bs4 import BeautifulSoup"
   ]
  },
  {
   "cell_type": "code",
   "execution_count": 3,
   "metadata": {},
   "outputs": [
    {
     "name": "stdout",
     "output_type": "stream",
     "text": [
      "CPU times: user 12min 14s, sys: 1.38 s, total: 12min 15s\n",
      "Wall time: 12min 16s\n"
     ]
    }
   ],
   "source": [
    "%%time\n",
    "\n",
    "path = 'data/src/ZOOMORFISMO (HISTORIAS EN ESPAÑOL DE WATTPAD)/'\n",
    "\n",
    "stories = []\n",
    "story_id = 0\n",
    "for category_name in sorted(os.listdir(path)):\n",
    "    for story_title in os.listdir(os.path.join(path, category_name)):\n",
    "        story = {}\n",
    "        story['id'] = story_id\n",
    "        story['title'] = story_title\n",
    "        story['category'] = category_name\n",
    "        story['text'] = {}\n",
    "        for story_chapter in sorted(os.listdir(os.path.join(path, category_name, story_title))):\n",
    "            f = open(os.path.join(path, category_name, story_title, story_chapter))\n",
    "            soup = BeautifulSoup(f, 'html.parser')\n",
    "            ps = soup.find_all('p')\n",
    "            texts = [p.get_text() for p in ps]\n",
    "            text = ' '.join(texts)\n",
    "            story['text'][story_chapter] = text\n",
    "        stories.append(story)\n",
    "        story_id += 1"
   ]
  },
  {
   "cell_type": "code",
   "execution_count": 6,
   "metadata": {},
   "outputs": [
    {
     "data": {
      "text/plain": [
       "98"
      ]
     },
     "execution_count": 6,
     "metadata": {},
     "output_type": "execute_result"
    }
   ],
   "source": [
    "len(stories)"
   ]
  },
  {
   "cell_type": "code",
   "execution_count": 5,
   "metadata": {
    "collapsed": true
   },
   "outputs": [],
   "source": [
    "with open('data/out/stories.pickle', 'wb') as f:\n",
    "    pickle.dump(stories, f)"
   ]
  },
  {
   "cell_type": "code",
   "execution_count": null,
   "metadata": {
    "collapsed": true
   },
   "outputs": [],
   "source": []
  }
 ],
 "metadata": {
  "kernelspec": {
   "display_name": "Python 3",
   "language": "python",
   "name": "python3"
  },
  "language_info": {
   "codemirror_mode": {
    "name": "ipython",
    "version": 3
   },
   "file_extension": ".py",
   "mimetype": "text/x-python",
   "name": "python",
   "nbconvert_exporter": "python",
   "pygments_lexer": "ipython3",
   "version": "3.5.2"
  }
 },
 "nbformat": 4,
 "nbformat_minor": 2
}
