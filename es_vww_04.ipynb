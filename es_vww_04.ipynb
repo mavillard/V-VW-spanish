{
 "cells": [
  {
   "cell_type": "code",
   "execution_count": 1,
   "metadata": {
    "collapsed": true
   },
   "outputs": [],
   "source": [
    "import pickle\n",
    "from time import time\n",
    "\n",
    "from sklearn.feature_extraction.text import CountVectorizer, TfidfVectorizer\n",
    "from sklearn.decomposition import LatentDirichletAllocation as LDA, NMF"
   ]
  },
  {
   "cell_type": "code",
   "execution_count": 2,
   "metadata": {
    "collapsed": true
   },
   "outputs": [],
   "source": [
    "with open('data/out/clean_stories.pickle', 'rb') as f:\n",
    "    stories = pickle.load(f)"
   ]
  },
  {
   "cell_type": "code",
   "execution_count": 3,
   "metadata": {},
   "outputs": [
    {
     "data": {
      "text/plain": [
       "98"
      ]
     },
     "execution_count": 3,
     "metadata": {},
     "output_type": "execute_result"
    }
   ],
   "source": [
    "len(stories)"
   ]
  },
  {
   "cell_type": "code",
   "execution_count": 4,
   "metadata": {
    "collapsed": true
   },
   "outputs": [],
   "source": [
    "# data = [story['text'] for story in stories]\n",
    "data = [text for story in stories for text in story['texts'].values()]"
   ]
  },
  {
   "cell_type": "code",
   "execution_count": 5,
   "metadata": {},
   "outputs": [
    {
     "data": {
      "text/plain": [
       "5294"
      ]
     },
     "execution_count": 5,
     "metadata": {},
     "output_type": "execute_result"
    }
   ],
   "source": [
    "len(data)"
   ]
  },
  {
   "cell_type": "code",
   "execution_count": 6,
   "metadata": {
    "collapsed": true
   },
   "outputs": [],
   "source": [
    "data_samples = data\n",
    "n_samples = len(data_samples)\n",
    "n_top_words = 10"
   ]
  },
  {
   "cell_type": "code",
   "execution_count": 7,
   "metadata": {
    "collapsed": true
   },
   "outputs": [],
   "source": [
    "def print_top_words(model, feature_names, n_top_words):\n",
    "    for topic_idx, topic in enumerate(model.components_):\n",
    "        message = \"Topic #%d: \" % topic_idx\n",
    "        message += \" \".join([feature_names[i]\n",
    "                             for i in topic.argsort()[:-n_top_words - 1:-1]])\n",
    "        print(message)\n",
    "    print()"
   ]
  },
  {
   "cell_type": "code",
   "execution_count": 8,
   "metadata": {
    "collapsed": true
   },
   "outputs": [],
   "source": [
    "nf_nc_values = [(50, 5), (100, 10), (150, 15), (200, 20)]"
   ]
  },
  {
   "cell_type": "markdown",
   "metadata": {},
   "source": [
    "# NMF"
   ]
  },
  {
   "cell_type": "code",
   "execution_count": 9,
   "metadata": {
    "scrolled": false
   },
   "outputs": [
    {
     "name": "stdout",
     "output_type": "stream",
     "text": [
      "50 5\n",
      "Extracting tf-idf features for NMF...\n",
      "done in 1.539s.\n",
      "\n",
      "Fitting the NMF model (Frobenius norm) with tf-idf features, n_samples=5294, n_features=50, and n_topics=5.\n",
      "done in 0.402s.\n",
      "\n",
      "Topics in NMF model (Frobenius norm):\n",
      "Topic #0: ojos mano manos cabeza puerta cuerpo mirada labios sonrisa brazos\n",
      "Topic #1: padre madre casa hermano puerta habitacion años vida tiempo noche\n",
      "Topic #2: sangre vampiro vampiros vida tiempo cuerpo años mujer ojos dolor\n",
      "Topic #3: gracias tiempo sonrisa chico corazon beso casa vida chica años\n",
      "Topic #4: lobo hombre suelo dolor casa miedo chica ojos forma fuerte\n",
      "\n",
      "Fitting the NMF model (generalized Kullback-Leibler divergence) with tf-idf features, n_samples=5294, n_features=50, and n_topics=5.\n",
      "done in 2.625s.\n",
      "\n",
      "Topics in NMF model (generalized Kullback-Leibler divergence):\n",
      "Topic #0: ojos cabeza voz mano brazos sonrisa manos puerta mirada rostro\n",
      "Topic #1: casa padre años madre vida hermano noche pequeña paso pregunta\n",
      "Topic #2: vampiro vampiros sangre vida años palabras corazon tiempo mujer padre\n",
      "Topic #3: gracias tiempo chica chico pregunta beso corazon sonrisa vida paso\n",
      "Topic #4: lobo dolor hombre forma fuerte miedo cuerpo fuerza suelo ojos\n",
      "\n",
      "100 10\n",
      "Extracting tf-idf features for NMF...\n",
      "done in 1.448s.\n",
      "\n",
      "Fitting the NMF model (Frobenius norm) with tf-idf features, n_samples=5294, n_features=100, and n_topics=10.\n",
      "done in 0.706s.\n",
      "\n",
      "Topics in NMF model (Frobenius norm):\n",
      "Topic #0: ojos mirada sonrisa voz mira pregunta cabeza tiempo rostro mano\n",
      "Topic #1: padre madre hijo padres familia hermana casa hermano años vida\n",
      "Topic #2: derek paso idea hermana seguro rapido mirada tiempo cara chico\n",
      "Topic #3: sangre vampiro vampiros vida años mujer tiempo hombre mundo noche\n",
      "Topic #4: historia nombre amor tiempo personas vida años realmente idea persona\n",
      "Topic #5: gracias mañana tiempo favor beso cosa sonrisa corazon hora personas\n",
      "Topic #6: chicos chico chica mesa suelo cabeza mano rapido cara brazos\n",
      "Topic #7: puerta casa habitacion cama auto baño ropa mañana noche minutos\n",
      "Topic #8: cuerpo ojos manos labios cuello mano dolor brazos cabeza pecho\n",
      "Topic #9: manada luna lobo bosque hombre casa hermana hermano miedo fuerte\n",
      "\n",
      "Fitting the NMF model (generalized Kullback-Leibler divergence) with tf-idf features, n_samples=5294, n_features=100, and n_topics=10.\n",
      "done in 6.218s.\n",
      "\n",
      "Topics in NMF model (generalized Kullback-Leibler divergence):\n",
      "Topic #0: ojos voz cabeza mirada mano sonrisa manos rostro brazos boca\n",
      "Topic #1: padre madre casa años hermano vida padres amor manada pregunta\n",
      "Topic #2: idea tiempo derek vista paso seguro chica rapido chico gracias\n",
      "Topic #3: vampiro vampiros sangre años vida mundo nombre gracias tiempo razon\n",
      "Topic #4: historia gracias lobo luna manada amor nombre tiempo forma miedo\n",
      "Topic #5: gracias mañana favor pasa cosa mesa personas chicos hora nombre\n",
      "Topic #6: chica chicos chico suelo cara rapido sangre paso cabeza puerta\n",
      "Topic #7: puerta cama habitacion noche casa ropa auto baño minutos mañana\n",
      "Topic #8: brazos beso manos cuello labios habitacion boca pecho cabeza cuerpo\n",
      "Topic #9: voz bosque lobo hombre dolor ojos cuerpo mujer fuerte fuerza\n",
      "\n",
      "150 15\n",
      "Extracting tf-idf features for NMF...\n",
      "done in 1.441s.\n",
      "\n",
      "Fitting the NMF model (Frobenius norm) with tf-idf features, n_samples=5294, n_features=150, and n_topics=15.\n",
      "done in 1.480s.\n",
      "\n",
      "Topics in NMF model (Frobenius norm):\n",
      "Topic #0: cuerpo dolor ojos sangre suelo fuerza manos cabeza cuello lagrimas\n",
      "Topic #1: madre mama papa casa hermano padres familia hermana años mañana\n",
      "Topic #2: derek idiota mama paso seguro idea tiempo hermana rapido vas\n",
      "Topic #3: vampiro vampiros sangre cuello años idea hermano tiempo instante noche\n",
      "Topic #4: alex capitulo asiento tono feliz voz sonrisa pasa habitacion idiota\n",
      "Topic #5: lobo lobos manada bosque hombres hombre casa suelo hermana rapido\n",
      "Topic #6: historia capitulo nombre tiempo idea favor pregunta cosa hombres amor\n",
      "Topic #7: chicos chico chica chicas mesa clase suelo cabeza rapido personas\n",
      "Topic #8: ojos mirada sonrisa mira pregunta cabeza voz mano expresion rostro\n",
      "Topic #9: puerta habitacion casa cama baño auto escaleras cuarto ropa cocina\n",
      "Topic #10: labios beso manos cuello mano cintura ojos amo cuerpo brazos\n",
      "Topic #11: mujer vida hombre personas años tiempo realmente amor niña mundo\n",
      "Topic #12: luna mate manada hermano pregunta vida mira amor feliz pasa\n",
      "Topic #13: gracias capitulo feliz mañana favor tiempo amo chicas amiga dios\n",
      "Topic #14: padre madre hijo papa hermana familia manada pregunta padres brazos\n",
      "\n",
      "Fitting the NMF model (generalized Kullback-Leibler divergence) with tf-idf features, n_samples=5294, n_features=150, and n_topics=15.\n",
      "done in 11.770s.\n",
      "\n",
      "Topics in NMF model (generalized Kullback-Leibler divergence):\n",
      "Topic #0: ojos voz cabeza manos boca brazos mirada cuerpo rostro mano\n",
      "Topic #1: padre madre casa padres hermano papa amigo manada años mama\n",
      "Topic #2: idea vuelta derek vas vista idiota tomo rapido tiempo segundos\n",
      "Topic #3: vampiro vampiros años sangre vida padre idea nombre familia mundo\n",
      "Topic #4: historia capitulo gracias tiempo alex pregunta cosa favor simplemente corazon\n",
      "Topic #5: lobo manada luna mate lobos hombres ojos miedo dolor hombre\n",
      "Topic #6: puerta mesa hora cocina casa cabello frente mañana cabeza mano\n",
      "Topic #7: chicos bosque chicas chica sangre suelo rapido cabeza paso vampiros\n",
      "Topic #8: sonrisa pregunta mirada voz ojos mira pasa cara mano chico\n",
      "Topic #9: puerta habitacion cama noche minutos idea casa mañana cuarto ventana\n",
      "Topic #10: beso amor amo mejilla labios mano manos cintura cama pasa\n",
      "Topic #11: vida personas hombre años mujer pequeña mundo realmente persona sentir\n",
      "Topic #12: ojos cara vida hermano mate vas lagrimas mierda cabeza fuerte\n",
      "Topic #13: gracias tiempo vida mañana feliz favor amo amiga dios corazon\n",
      "Topic #14: nombre habitacion baño chica padre ropa cama color agua puerta\n",
      "\n",
      "200 20\n",
      "Extracting tf-idf features for NMF...\n",
      "done in 1.443s.\n",
      "\n",
      "Fitting the NMF model (Frobenius norm) with tf-idf features, n_samples=5294, n_features=200, and n_topics=20.\n",
      "done in 2.162s.\n",
      "\n",
      "Topics in NMF model (Frobenius norm):\n",
      "Topic #0: ojos cuerpo manos labios mano cuello brazos cabeza rostro dolor\n",
      "Topic #1: padre madre papa mama hija hijo padres familia casa hermano\n",
      "Topic #2: derek mama idiota paso camisa hermana rapido humana tomo clase\n",
      "Topic #3: sangre vampiro vampiros humanos humana vida muerte hijo mujer años\n",
      "Topic #4: alex capitulo asiento tono sonrisa feliz voz pasa mira habitacion\n",
      "Topic #5: historia capitulo nombre amor tiempo personas idea hombres realmente favor\n",
      "Topic #6: chicos chico chicas chica mesa clase cabeza mano comer cara\n",
      "Topic #7: lobo lobos bosque hombres suelo hombre casa dolor olor negro\n",
      "Topic #8: ethan mate chicos pregunta lagrimas mama dios vida mirada pequeño\n",
      "Topic #9: gema mira pregunta expresion mirada rostro cabeza asiento mirandome par\n",
      "Topic #10: darren hermana lobo corazon amiga padre hombre padres amigo noche\n",
      "Topic #11: liam aria amiga pregunta padres mira manos favor chica rostro\n",
      "Topic #12: puerta casa habitacion cama auto baño cocina escaleras ropa cuarto\n",
      "Topic #13: hadrien vampiro pie dolor luz labios momentos cuello habitacion ceño\n",
      "Topic #14: ojos mirada tiempo voz sonrisa vida hermano realmente persona hombre\n",
      "Topic #15: victoria hija tomo mira mundo forma padre corazon pequeña hermana\n",
      "Topic #16: manada lobos hermana hermano olor padre casa familia niña brazos\n",
      "Topic #17: hunter realmente dolor rato hombre palabras seguro daño piel pregunta\n",
      "Topic #18: gracias feliz amo capitulo mañana tiempo favor chicas personas cosa\n",
      "Topic #19: luna mate amor beso amo vida mira pasa feliz pregunta\n",
      "\n",
      "Fitting the NMF model (generalized Kullback-Leibler divergence) with tf-idf features, n_samples=5294, n_features=200, and n_topics=20.\n",
      "done in 22.032s.\n",
      "\n",
      "Topics in NMF model (generalized Kullback-Leibler divergence):\n",
      "Topic #0: ojos cabeza manos cuerpo boca mano rostro brazos mirada frente\n",
      "Topic #1: mate luna vida madre padre manada casa padres hermano papa\n",
      "Topic #2: idea vas vuelta derek amigo paso amigos rapido chico hermana\n",
      "Topic #3: vampiros vampiro años sangre tiempo vida madre padre humanos persona\n",
      "Topic #4: vista sonrisa razon alex tiempo mirada segundos punto pasa ojos\n",
      "Topic #5: historia capitulo gracias tiempo nombre lobo lobos hombres feliz corazon\n",
      "Topic #6: mesa baño manos mano casa frente hora minutos cabello cabeza\n",
      "Topic #7: lobo bosque lobos vista manada olor hombres hombre negro sangre\n",
      "Topic #8: chicos suelo cabeza rapido aire ethan agua sala cocina puerta\n",
      "Topic #9: ojos chica mira pasa mirada pregunta cara vida chico sonrisa\n",
      "Topic #10: voz verlo ceño cabeza ojos padre hombros gema rostro daño\n",
      "Topic #11: manos beso brazos cuello cuerpo amor chica frente labios cabello\n",
      "Topic #12: voz noche habitacion puerta casa vida ventana cama mente mujer\n",
      "Topic #13: beso sonrisa labios mejilla brazo mirada mano idea verlo oido\n",
      "Topic #14: vida vista mundo simplemente pequeña persona años realmente voz tiempo\n",
      "Topic #15: pregunta victoria mira tomo susurro mano habitacion mundo paso vestido\n",
      "Topic #16: vuelta puerta ventana pequeño habitacion casa pasillo golpe mirandome asiento\n",
      "Topic #17: amo amor personas feliz mañana mujer gracias cama tiempo noche\n",
      "Topic #18: gracias favor dios mañana casa idiota cara mierda realidad ojos\n",
      "Topic #19: ojos cama habitacion puerta cara voz cuarto tiempo baño fuerte\n",
      "\n"
     ]
    }
   ],
   "source": [
    "for n_features, n_components in nf_nc_values:\n",
    "    print(n_features, n_components)\n",
    "\n",
    "    # Use tf-idf features for NMF.\n",
    "    print(\"Extracting tf-idf features for NMF...\")\n",
    "    tfidf_vectorizer = TfidfVectorizer(max_df=0.95, min_df=10,\n",
    "                                       max_features=n_features,)\n",
    "    t0 = time()\n",
    "    tfidf = tfidf_vectorizer.fit_transform(data_samples)\n",
    "    print(\"done in %0.3fs.\\n\" % (time() - t0))\n",
    "\n",
    "    # Fit the NMF model\n",
    "    print(\"Fitting the NMF model (Frobenius norm) with tf-idf features, \"\n",
    "          \"n_samples=%d, n_features=%d, and n_topics=%d.\"\n",
    "          % (n_samples, n_features, n_components))\n",
    "    t0 = time()\n",
    "    nmf = NMF(n_components=n_components, random_state=1,\n",
    "              alpha=.1, l1_ratio=.5).fit(tfidf)\n",
    "    print(\"done in %0.3fs.\" % (time() - t0))\n",
    "\n",
    "    print(\"\\nTopics in NMF model (Frobenius norm):\")\n",
    "    tfidf_feature_names = tfidf_vectorizer.get_feature_names()\n",
    "    print_top_words(nmf, tfidf_feature_names, n_top_words)\n",
    "\n",
    "    # Fit the NMF model\n",
    "    print(\"Fitting the NMF model (generalized Kullback-Leibler divergence) with \"\n",
    "          \"tf-idf features, n_samples=%d, n_features=%d, and n_topics=%d.\"\n",
    "          % (n_samples, n_features, n_components))\n",
    "    t0 = time()\n",
    "    nmf = NMF(n_components=n_components, random_state=1,\n",
    "              beta_loss='kullback-leibler', solver='mu', max_iter=1000, alpha=.1,\n",
    "              l1_ratio=.5).fit(tfidf)\n",
    "    print(\"done in %0.3fs.\" % (time() - t0))\n",
    "\n",
    "    print(\"\\nTopics in NMF model (generalized Kullback-Leibler divergence):\")\n",
    "    tfidf_feature_names = tfidf_vectorizer.get_feature_names()\n",
    "    print_top_words(nmf, tfidf_feature_names, n_top_words)"
   ]
  },
  {
   "cell_type": "markdown",
   "metadata": {
    "collapsed": true
   },
   "source": [
    "# LDA"
   ]
  },
  {
   "cell_type": "code",
   "execution_count": 10,
   "metadata": {},
   "outputs": [
    {
     "name": "stdout",
     "output_type": "stream",
     "text": [
      "50 5\n",
      "Extracting tf features for LDA...\n",
      "done in 1.448s.\n",
      "\n",
      "Fitting LDA models with tf features, n_samples=5294, n_features=50, and n_topics=5.\n",
      "done in 19.004s.\n",
      "\n",
      "Topics in LDA model:\n",
      "Topic #0: puerta casa habitacion cama ojos chico chica tiempo gracias cabeza\n",
      "Topic #1: padre madre casa ojos mirada tiempo pregunta voz sonrisa años\n",
      "Topic #2: lobo hombre mujer ojos vida dolor años cuerpo voz corazon\n",
      "Topic #3: ojos manos mano cuerpo cabeza mirada labios rostro sonrisa brazos\n",
      "Topic #4: sangre vampiro vampiros ojos cabeza mano cuerpo manos rostro cuello\n",
      "\n",
      "100 10\n",
      "Extracting tf features for LDA...\n",
      "done in 1.461s.\n",
      "\n",
      "Fitting LDA models with tf features, n_samples=5294, n_features=100, and n_topics=10.\n",
      "done in 26.881s.\n",
      "\n",
      "Topics in LDA model:\n",
      "Topic #0: casa auto puerta padres mañana cara hora noche gracias camino\n",
      "Topic #1: ojos mano manos cabeza suelo brazos cuello cuerpo sangre labios\n",
      "Topic #2: hombre mujer hermano años hermana lobo vida familia bosque puerta\n",
      "Topic #3: luna manada lobo bosque ojos casa gracias beso mira pregunta\n",
      "Topic #4: ojos cuerpo rostro manos dolor sangre vida voz corazon fuerza\n",
      "Topic #5: chica chico tiempo realmente gracias personas historia vida persona chicos\n",
      "Topic #6: vampiro vampiros derek sangre ojos tiempo vida mirada seguro mano\n",
      "Topic #7: habitacion cama puerta baño ojos ropa beso cabello mano labios\n",
      "Topic #8: ojos mirada sonrisa cabeza mano pregunta voz mira puerta rostro\n",
      "Topic #9: padre madre hijo familia padres casa hermana tiempo ojos voz\n",
      "\n",
      "150 15\n",
      "Extracting tf features for LDA...\n",
      "done in 1.460s.\n",
      "\n",
      "Fitting LDA models with tf features, n_samples=5294, n_features=150, and n_topics=15.\n",
      "done in 32.104s.\n",
      "\n",
      "Topics in LDA model:\n",
      "Topic #0: historia lobos gracias lobo años tiempo vida mundo personas capitulo\n",
      "Topic #1: alex ojos sonrisa paso gracias habitacion asiento tono grito pasa\n",
      "Topic #2: mirada ojos sonrisa cabeza rostro pregunta mira voz mano expresion\n",
      "Topic #3: luna manada mate lobo ojos amor vida luz cara mira\n",
      "Topic #4: auto casa tiempo realmente personas frente ojos minutos voz puerta\n",
      "Topic #5: puerta casa ojos cabeza cara habitacion cocina hermano voz mierda\n",
      "Topic #6: chicos chico chica chicas ojos mano cabeza mesa cara sonrisa\n",
      "Topic #7: lobo ojos bosque suelo cabeza hombre mano frente hombres manos\n",
      "Topic #8: labios manos ojos beso cama mano habitacion cuerpo brazos cuello\n",
      "Topic #9: mujer habitacion puerta hombre cama color pequeña niña vestido ojos\n",
      "Topic #10: vampiro derek vampiros sangre tiempo idea hermano seguro paso vas\n",
      "Topic #11: ojos cuerpo sangre dolor manos rostro mano cabeza fuerza voz\n",
      "Topic #12: madre hijo vida familia padre amor tiempo ojos corazon pequeño\n",
      "Topic #13: padre madre padres papa hermana mama casa hermano familia años\n",
      "Topic #14: casa amiga mañana pasa gracias pregunta favor capitulo amigo noche\n",
      "\n",
      "200 20\n",
      "Extracting tf features for LDA...\n",
      "done in 2.024s.\n",
      "\n",
      "Fitting LDA models with tf features, n_samples=5294, n_features=200, and n_topics=20.\n",
      "done in 33.612s.\n",
      "\n",
      "Topics in LDA model:\n",
      "Topic #0: mujer ojos vestido color cabello mano mirada rostro negro frente\n",
      "Topic #1: chicos chica chico chicas beso mano cara gracias paso agua\n",
      "Topic #2: hadrien pie mano labios ojos dolor cuello vista vampiro frente\n",
      "Topic #3: darren hermana lobo corazon casa voz ojos padre tiempo padres\n",
      "Topic #4: hombre hombres personas mujer puerta bosque vida persona noche años\n",
      "Topic #5: lobo lobos manada bosque ojos humana casa forma olor hermano\n",
      "Topic #6: luna mate ethan manada vida amor lobo amo idiota bosque\n",
      "Topic #7: cabeza mano ojos suelo puerta brazos manos brazo frente mirada\n",
      "Topic #8: tiempo mirada pregunta mira ojos sonrisa vida cabeza palabras voz\n",
      "Topic #9: ojos cuerpo dolor sangre rostro manos voz fuerza cabeza vida\n",
      "Topic #10: habitacion puerta casa cama cuarto escaleras baño cocina mañana noche\n",
      "Topic #11: labios manos ojos beso mano cuerpo cama brazos cuello cabeza\n",
      "Topic #12: ojos mirada voz sonrisa clase cabeza mesa tiempo chico mano\n",
      "Topic #13: vampiro sangre vampiros gema humanos humana mano olor cuello instante\n",
      "Topic #14: aria ojos rostro manos voz habitacion padres cabello pregunta mejillas\n",
      "Topic #15: liam amiga historia gracias capitulo padres favor feliz años vida\n",
      "Topic #16: hunter realmente rato ojos vampiro idea seguro frente atencion extraño\n",
      "Topic #17: auto alex asiento casa ojos camino sonrisa voz puerta mira\n",
      "Topic #18: padre madre mama papa hija victoria casa familia hijo hermano\n",
      "Topic #19: derek mama idiota paso casa seguro mirada hermana tiempo vas\n",
      "\n"
     ]
    }
   ],
   "source": [
    "for n_features, n_components in nf_nc_values:\n",
    "    print(n_features, n_components)\n",
    "\n",
    "    # Use tf (raw term count) features for LDA.\n",
    "    print(\"Extracting tf features for LDA...\")\n",
    "    tf_vectorizer = CountVectorizer(max_df=0.95, min_df=10,\n",
    "                                    max_features=n_features,)\n",
    "    t0 = time()\n",
    "    tf = tf_vectorizer.fit_transform(data_samples)\n",
    "    print(\"done in %0.3fs.\" % (time() - t0))\n",
    "    print()\n",
    "\n",
    "    # Fit the LDA model\n",
    "    print(\"Fitting LDA models with tf features, \"\n",
    "          \"n_samples=%d, n_features=%d, and n_topics=%d.\"\n",
    "          % (n_samples, n_features, n_components))\n",
    "    lda = LDA(n_components=n_components, max_iter=10,\n",
    "            learning_method='online',\n",
    "            learning_offset=50.,\n",
    "            random_state=0)\n",
    "    t0 = time()\n",
    "    lda.fit(tf)\n",
    "    print(\"done in %0.3fs.\" % (time() - t0))\n",
    "\n",
    "    print(\"\\nTopics in LDA model:\")\n",
    "    tf_feature_names = tf_vectorizer.get_feature_names()\n",
    "    print_top_words(lda, tf_feature_names, n_top_words)"
   ]
  },
  {
   "cell_type": "markdown",
   "metadata": {},
   "source": [
    "El algoritmo NMF (Non-negative Matrix Factorization) considera que un conjunto grande de documentos (donde cada documento está formado por un conjunto de palabras con sus respectivas frecuencias en el documento) se puede descomponer y reducir a un subconjunto menor de documentos arquetipos. Aplicado a extracción de tópicos, estos arquetipos representan los tópicos del conjunto total de documentos. [2][3][4]\n",
    "\n",
    "LDA (Latent Dirichlet Allocation ) [5][6][7]. (Descripción completa y más referencias en el documento de Word adjunto.)\n",
    "\n",
    "**References**\n",
    "\n",
    "[2] Lee, Daniel D., and H. Sebastian Seung. 1999. “Learning the Parts of Objects by Non-Negative Matrix Factorization.” *Nature* 401 (6755): 788. https://doi.org/10.1038/44565.\n",
    "\n",
    "[3] Cichocki, Andrzej, and P. H. A. N. Anh-Huy. “Fast local algorithms for large scale nonnegative matrix and tensor factorizations.” IEICE transactions on fundamentals of electronics, communications and computer sciences 92.3: 708-721, 2009.\n",
    "\n",
    "[4] Fevotte, C., & Idier, J. (2011). Algorithms for nonnegative matrix factorization with the beta-divergence. Neural Computation, 23(9).\n",
    "\n",
    "[5] Blei, David M., Andrew Y. Ng, and Michael I. Jordan. 2003. “Latent Dirichlet Allocation.” *Journal of Machine Learning Research* 3 (March): 993–1022.\n",
    "\n",
    "[6] Hoffman, Matthew, Francis R. Bach, and David M. Blei. 2010. “Online Learning for Latent Dirichlet Allocation.” In *Advances in Neural Information Processing Systems 23*, edited by J. D. Lafferty, C. K. I. Williams, J. Shawe-Taylor, R. S. Zemel, and A. Culotta, 856–864. Curran Associates, Inc. http://papers.nips.cc/paper/3902-online-learning-for-latent-dirichlet-allocation.pdf.\n",
    "\n",
    "[7] Hoffman, Matt, David M. Blei, Chong Wang, and John Paisley. 2013. “Stochastic Variational Inference.” *ArXiv:1206.7051 [Cs, Stat]*, June. http://arxiv.org/abs/1206.7051."
   ]
  },
  {
   "cell_type": "code",
   "execution_count": null,
   "metadata": {
    "collapsed": true
   },
   "outputs": [],
   "source": []
  }
 ],
 "metadata": {
  "kernelspec": {
   "display_name": "Python 3",
   "language": "python",
   "name": "python3"
  },
  "language_info": {
   "codemirror_mode": {
    "name": "ipython",
    "version": 3
   },
   "file_extension": ".py",
   "mimetype": "text/x-python",
   "name": "python",
   "nbconvert_exporter": "python",
   "pygments_lexer": "ipython3",
   "version": "3.5.2"
  }
 },
 "nbformat": 4,
 "nbformat_minor": 2
}
