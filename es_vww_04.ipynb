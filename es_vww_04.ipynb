{
 "cells": [
  {
   "cell_type": "code",
   "execution_count": 10,
   "metadata": {
    "collapsed": true
   },
   "outputs": [],
   "source": [
    "import pickle"
   ]
  },
  {
   "cell_type": "code",
   "execution_count": 11,
   "metadata": {
    "collapsed": true
   },
   "outputs": [],
   "source": [
    "with open('data/out/clean_stories.pickle', 'rb') as f:\n",
    "    stories = pickle.load(f)"
   ]
  },
  {
   "cell_type": "code",
   "execution_count": 12,
   "metadata": {},
   "outputs": [
    {
     "data": {
      "text/plain": [
       "98"
      ]
     },
     "execution_count": 12,
     "metadata": {},
     "output_type": "execute_result"
    }
   ],
   "source": [
    "len(stories)"
   ]
  },
  {
   "cell_type": "code",
   "execution_count": 22,
   "metadata": {},
   "outputs": [],
   "source": [
    "# data = [story['text'] for story in stories]\n",
    "data = [text for story in stories for text in story['texts'].values()]"
   ]
  },
  {
   "cell_type": "code",
   "execution_count": 24,
   "metadata": {},
   "outputs": [
    {
     "data": {
      "text/plain": [
       "5294"
      ]
     },
     "execution_count": 24,
     "metadata": {},
     "output_type": "execute_result"
    }
   ],
   "source": [
    "len(data)"
   ]
  },
  {
   "cell_type": "code",
   "execution_count": 25,
   "metadata": {},
   "outputs": [
    {
     "name": "stdout",
     "output_type": "stream",
     "text": [
      "Loading dataset...\n",
      "done in 0.000s.\n",
      "Extracting tf-idf features for NMF...\n",
      "done in 2.755s.\n",
      "Extracting tf features for LDA...\n",
      "done in 2.648s.\n",
      "\n",
      "Fitting the NMF model (Frobenius norm) with tf-idf features, n_samples=2000 and n_features=1000...\n",
      "done in 3.299s.\n",
      "\n",
      "Topics in NMF model (Frobenius norm):\n",
      "Topic #0: ojos puerta cuerpo podia sangre dije mano cabeza manos habitacion mirada voz rostro casa queria sabia mire tiempo labios cama\n",
      "Topic #1: caleb sky logan alexa riendo simon chicos mirando manada sonriendo dije mire besando cabeza pov suelo manos cabaña brazos ethan\n",
      "Topic #2: derek yesid kathy andy dije dea jake henry hunter mama chico colegio alec quieres camisa celular chica quiero erika sangre\n",
      "Topic #3: armen gema mai danko farah pen irina anisa uriel alain digo mira expresion niega pregunta mirada responde sonrie murmura cabeza\n",
      "Topic #4: luna manada mate alpha historia digo quiero ethan novela lobo siento gracias espero liam capitulo padre alfa hola pregunta mira\n",
      "Topic #5: james ryan coche william mano asenti puerta cabeza luke casa manos liam camiseta movil volvi asintio irina hanna vi cazadores\n",
      "Topic #6: darren nikki tiffany mike lobo adam tyler hermana lobos nicole sintio padre james pregunto hombre bosque comenzo sabia manada amiga\n",
      "Topic #7: andre principe victoria ivan spector claudius castillo toma princesa mira pone reina comienza inmediatamente miro rey padre hermano vuelve fuego\n",
      "Topic #8: evelyn dije antonio alice rosalie brad josh aaron jack ves pregunto chicos pregunte hola cuarto chicas piso escuela oye vi\n",
      "Topic #9: alex damian nicole digo catherine luke jake alexander alfa matt bebe aca sonrisa caleb tono abuela asiento respondi amber queria\n",
      "\n",
      "Fitting the NMF model (generalized Kullback-Leibler divergence) with tf-idf features, n_samples=2000 and n_features=1000...\n",
      "done in 34.053s.\n",
      "\n",
      "Topics in NMF model (generalized Kullback-Leibler divergence):\n",
      "Topic #0: voz vuelta ojos vista mano cabeza volver mirada cuerpo puerta manos rostro vi tiempo volvio labios habitacion sonrisa frente boca\n",
      "Topic #1: volvi volvio viendo voltee dije vi mire puse sonrei pregunte pregunto sali mirando pov puerta sente senti riendo corriendo veia\n",
      "Topic #2: voz vuelto yesid vida vampiro sabia vampiros podia tiempo seguro sangre parecia unico sentia pude idea siquiera encontraba queria debia\n",
      "Topic #3: siento veo vuelve digo pregunta mira quiero sonrisa vuelvo pasa doy ve sonrie cara miro sigo pone mate espero viendo\n",
      "Topic #4: vida luna padre manada madre mate oh tiempo alpha años lobo vi dije casa quiero queria hermano salir padres idea\n",
      "Topic #5: visto vuelvo viene voz vuelve verlo veo verme vino vueltas james cabeza brazo boca abre asiento ryan tema venir ceño\n",
      "Topic #6: vida vio vivir voz sangre lobo vuelve ojos bosque cuerpo hombre dolor suelo lobos veia vampiros mundo años fuerte vampiro\n",
      "Topic #7: vuelve william vuelvo victoria vampiros unico principe tomo ve tierra vampiro corazon puerta rapidamente volvio pie mano manos habitacion vestido\n",
      "Topic #8: gracias espero historia capitulo quiero novela hola tiempo visto leer queria comentarios quieren libro gusta guste nombre vampiros seguir vivir\n",
      "Topic #9: voz vio vueltas volteo ves pregunto verlo alex verla vestido viendo ven mirada sonrisa miro tomo tono tyler nicole mano\n",
      "\n",
      "Fitting LDA models with tf features, n_samples=2000 and n_features=1000...\n",
      "done in 23.758s.\n",
      "\n",
      "Topics in LDA model:\n",
      "Topic #0: aria vampiros sangre vampiro padre victoria andre principe ivan vida madre años ojos hijo sabia tiempo podia hermano hija familia\n",
      "Topic #1: derek alec hunter adam erika tyler leila nick ojos simon abby chico chris andrew ashton sonrio quiero chicos miro tiempo\n",
      "Topic #2: armen gema mai danko damian farah pen irina expresion mirada anisa victor demian quiero tiempo uriel alain cabeza padre alguien\n",
      "Topic #3: dije pregunto quiero hola pregunte antonio evelyn alice gracias casa josh chicos vi habitacion rosalie quieres chico cama gusta beso\n",
      "Topic #4: dije ojos mano mire cabeza manada manos brazos puerta luna mirando beso ethan caleb lobo alpha chicos quiero sonrei riendo\n",
      "Topic #5: dije madre yesid casa padre kathy tiempo mama iba clase sonrisa mirada chase hermana cabeza dea queria andy podia voz\n",
      "Topic #6: digo siento ojos mira veo pregunta quiero miro sonrisa mano puerta manos mirada cabeza voz sonrie casa rostro habitacion toma\n",
      "Topic #7: ojos puerta podia voz mano mire habitacion casa mirada cabeza queria sabia pregunte sonrisa encontraba iba james pude tiempo parecia\n",
      "Topic #8: liam hanna lucas amiga darren ojos catherine nicole annelisse nikki jake padres rostro james mirada voz cabello lobo alexander manos\n",
      "Topic #9: ojos cuerpo sangre manos dolor mano rostro cuello labios cabeza mirada fuerza brazos pecho suelo boca corazon vida sentir vampiro\n",
      "\n"
     ]
    }
   ],
   "source": [
    "# Author: Olivier Grisel <olivier.grisel@ensta.org>\n",
    "#         Lars Buitinck\n",
    "#         Chyi-Kwei Yau <chyikwei.yau@gmail.com>\n",
    "# License: BSD 3 clause\n",
    "\n",
    "from __future__ import print_function\n",
    "from time import time\n",
    "\n",
    "from sklearn.feature_extraction.text import TfidfVectorizer, CountVectorizer\n",
    "from sklearn.decomposition import NMF, LatentDirichletAllocation\n",
    "from sklearn.datasets import fetch_20newsgroups\n",
    "\n",
    "n_samples = 2000\n",
    "n_features = 1000\n",
    "n_components = 10\n",
    "n_top_words = 20\n",
    "\n",
    "\n",
    "def print_top_words(model, feature_names, n_top_words):\n",
    "    for topic_idx, topic in enumerate(model.components_):\n",
    "        message = \"Topic #%d: \" % topic_idx\n",
    "        message += \" \".join([feature_names[i]\n",
    "                             for i in topic.argsort()[:-n_top_words - 1:-1]])\n",
    "        print(message)\n",
    "    print()\n",
    "\n",
    "\n",
    "print(\"Loading dataset...\")\n",
    "t0 = time()\n",
    "data_samples = data\n",
    "print(\"done in %0.3fs.\" % (time() - t0))\n",
    "\n",
    "# Use tf-idf features for NMF.\n",
    "print(\"Extracting tf-idf features for NMF...\")\n",
    "tfidf_vectorizer = TfidfVectorizer(max_df=0.95, min_df=2,\n",
    "                                   max_features=n_features,\n",
    "                                   stop_words='english')\n",
    "t0 = time()\n",
    "tfidf = tfidf_vectorizer.fit_transform(data_samples)\n",
    "print(\"done in %0.3fs.\" % (time() - t0))\n",
    "\n",
    "# Use tf (raw term count) features for LDA.\n",
    "print(\"Extracting tf features for LDA...\")\n",
    "tf_vectorizer = CountVectorizer(max_df=0.95, min_df=2,\n",
    "                                max_features=n_features,\n",
    "                                stop_words='english')\n",
    "t0 = time()\n",
    "tf = tf_vectorizer.fit_transform(data_samples)\n",
    "print(\"done in %0.3fs.\" % (time() - t0))\n",
    "print()\n",
    "\n",
    "# Fit the NMF model\n",
    "print(\"Fitting the NMF model (Frobenius norm) with tf-idf features, \"\n",
    "      \"n_samples=%d and n_features=%d...\"\n",
    "      % (n_samples, n_features))\n",
    "t0 = time()\n",
    "nmf = NMF(n_components=n_components, random_state=1,\n",
    "          alpha=.1, l1_ratio=.5).fit(tfidf)\n",
    "print(\"done in %0.3fs.\" % (time() - t0))\n",
    "\n",
    "print(\"\\nTopics in NMF model (Frobenius norm):\")\n",
    "tfidf_feature_names = tfidf_vectorizer.get_feature_names()\n",
    "print_top_words(nmf, tfidf_feature_names, n_top_words)\n",
    "\n",
    "# Fit the NMF model\n",
    "print(\"Fitting the NMF model (generalized Kullback-Leibler divergence) with \"\n",
    "      \"tf-idf features, n_samples=%d and n_features=%d...\"\n",
    "      % (n_samples, n_features))\n",
    "t0 = time()\n",
    "nmf = NMF(n_components=n_components, random_state=1,\n",
    "          beta_loss='kullback-leibler', solver='mu', max_iter=1000, alpha=.1,\n",
    "          l1_ratio=.5).fit(tfidf)\n",
    "print(\"done in %0.3fs.\" % (time() - t0))\n",
    "\n",
    "print(\"\\nTopics in NMF model (generalized Kullback-Leibler divergence):\")\n",
    "tfidf_feature_names = tfidf_vectorizer.get_feature_names()\n",
    "print_top_words(nmf, tfidf_feature_names, n_top_words)\n",
    "\n",
    "print(\"Fitting LDA models with tf features, \"\n",
    "      \"n_samples=%d and n_features=%d...\"\n",
    "      % (n_samples, n_features))\n",
    "lda = LatentDirichletAllocation(n_components=n_components, max_iter=5,\n",
    "                                learning_method='online',\n",
    "                                learning_offset=50.,\n",
    "                                random_state=0)\n",
    "t0 = time()\n",
    "lda.fit(tf)\n",
    "print(\"done in %0.3fs.\" % (time() - t0))\n",
    "\n",
    "print(\"\\nTopics in LDA model:\")\n",
    "tf_feature_names = tf_vectorizer.get_feature_names()\n",
    "print_top_words(lda, tf_feature_names, n_top_words)"
   ]
  },
  {
   "cell_type": "code",
   "execution_count": null,
   "metadata": {
    "collapsed": true
   },
   "outputs": [],
   "source": []
  }
 ],
 "metadata": {
  "kernelspec": {
   "display_name": "Python 3",
   "language": "python",
   "name": "python3"
  },
  "language_info": {
   "codemirror_mode": {
    "name": "ipython",
    "version": 3
   },
   "file_extension": ".py",
   "mimetype": "text/x-python",
   "name": "python",
   "nbconvert_exporter": "python",
   "pygments_lexer": "ipython3",
   "version": "3.5.2"
  }
 },
 "nbformat": 4,
 "nbformat_minor": 2
}
